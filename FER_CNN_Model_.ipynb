{
  "nbformat": 4,
  "nbformat_minor": 0,
  "metadata": {
    "colab": {
      "name": "FER_CNN_Model_",
      "provenance": [],
      "collapsed_sections": [],
      "include_colab_link": true
    },
    "kernelspec": {
      "name": "python3",
      "display_name": "Python 3"
    },
    "accelerator": "GPU"
  },
  "cells": [
    {
      "cell_type": "markdown",
      "metadata": {
        "id": "view-in-github",
        "colab_type": "text"
      },
      "source": [
        "<a href=\"https://colab.research.google.com/github/Sandipan789/A-Hotel-Website/blob/main/FER_CNN_Model_.ipynb\" target=\"_parent\"><img src=\"https://colab.research.google.com/assets/colab-badge.svg\" alt=\"Open In Colab\"/></a>"
      ]
    },
    {
      "cell_type": "code",
      "metadata": {
        "id": "Ad5-NkJcL9Eg",
        "colab": {
          "base_uri": "https://localhost:8080/",
          "height": 658
        },
        "outputId": "23c7507b-bb95-4393-fb3a-44afe1e89565"
      },
      "source": [
        "!pip install tensorflow"
      ],
      "execution_count": null,
      "outputs": [
        {
          "output_type": "stream",
          "text": [
            "Requirement already satisfied: tensorflow in /usr/local/lib/python3.6/dist-packages (2.2.0)\n",
            "Requirement already satisfied: termcolor>=1.1.0 in /usr/local/lib/python3.6/dist-packages (from tensorflow) (1.1.0)\n",
            "Requirement already satisfied: wheel>=0.26; python_version >= \"3\" in /usr/local/lib/python3.6/dist-packages (from tensorflow) (0.34.2)\n",
            "Requirement already satisfied: gast==0.3.3 in /usr/local/lib/python3.6/dist-packages (from tensorflow) (0.3.3)\n",
            "Requirement already satisfied: opt-einsum>=2.3.2 in /usr/local/lib/python3.6/dist-packages (from tensorflow) (3.3.0)\n",
            "Requirement already satisfied: tensorflow-estimator<2.3.0,>=2.2.0 in /usr/local/lib/python3.6/dist-packages (from tensorflow) (2.2.0)\n",
            "Requirement already satisfied: google-pasta>=0.1.8 in /usr/local/lib/python3.6/dist-packages (from tensorflow) (0.2.0)\n",
            "Requirement already satisfied: six>=1.12.0 in /usr/local/lib/python3.6/dist-packages (from tensorflow) (1.15.0)\n",
            "Requirement already satisfied: protobuf>=3.8.0 in /usr/local/lib/python3.6/dist-packages (from tensorflow) (3.12.2)\n",
            "Requirement already satisfied: tensorboard<2.3.0,>=2.2.0 in /usr/local/lib/python3.6/dist-packages (from tensorflow) (2.2.2)\n",
            "Requirement already satisfied: numpy<2.0,>=1.16.0 in /usr/local/lib/python3.6/dist-packages (from tensorflow) (1.18.5)\n",
            "Requirement already satisfied: scipy==1.4.1; python_version >= \"3\" in /usr/local/lib/python3.6/dist-packages (from tensorflow) (1.4.1)\n",
            "Requirement already satisfied: absl-py>=0.7.0 in /usr/local/lib/python3.6/dist-packages (from tensorflow) (0.9.0)\n",
            "Requirement already satisfied: keras-preprocessing>=1.1.0 in /usr/local/lib/python3.6/dist-packages (from tensorflow) (1.1.2)\n",
            "Requirement already satisfied: wrapt>=1.11.1 in /usr/local/lib/python3.6/dist-packages (from tensorflow) (1.12.1)\n",
            "Requirement already satisfied: astunparse==1.6.3 in /usr/local/lib/python3.6/dist-packages (from tensorflow) (1.6.3)\n",
            "Requirement already satisfied: grpcio>=1.8.6 in /usr/local/lib/python3.6/dist-packages (from tensorflow) (1.30.0)\n",
            "Requirement already satisfied: h5py<2.11.0,>=2.10.0 in /usr/local/lib/python3.6/dist-packages (from tensorflow) (2.10.0)\n",
            "Requirement already satisfied: setuptools in /usr/local/lib/python3.6/dist-packages (from protobuf>=3.8.0->tensorflow) (49.1.0)\n",
            "Requirement already satisfied: google-auth<2,>=1.6.3 in /usr/local/lib/python3.6/dist-packages (from tensorboard<2.3.0,>=2.2.0->tensorflow) (1.17.2)\n",
            "Requirement already satisfied: google-auth-oauthlib<0.5,>=0.4.1 in /usr/local/lib/python3.6/dist-packages (from tensorboard<2.3.0,>=2.2.0->tensorflow) (0.4.1)\n",
            "Requirement already satisfied: werkzeug>=0.11.15 in /usr/local/lib/python3.6/dist-packages (from tensorboard<2.3.0,>=2.2.0->tensorflow) (1.0.1)\n",
            "Requirement already satisfied: tensorboard-plugin-wit>=1.6.0 in /usr/local/lib/python3.6/dist-packages (from tensorboard<2.3.0,>=2.2.0->tensorflow) (1.7.0)\n",
            "Requirement already satisfied: markdown>=2.6.8 in /usr/local/lib/python3.6/dist-packages (from tensorboard<2.3.0,>=2.2.0->tensorflow) (3.2.2)\n",
            "Requirement already satisfied: requests<3,>=2.21.0 in /usr/local/lib/python3.6/dist-packages (from tensorboard<2.3.0,>=2.2.0->tensorflow) (2.23.0)\n",
            "Requirement already satisfied: cachetools<5.0,>=2.0.0 in /usr/local/lib/python3.6/dist-packages (from google-auth<2,>=1.6.3->tensorboard<2.3.0,>=2.2.0->tensorflow) (4.1.1)\n",
            "Requirement already satisfied: rsa<5,>=3.1.4; python_version >= \"3\" in /usr/local/lib/python3.6/dist-packages (from google-auth<2,>=1.6.3->tensorboard<2.3.0,>=2.2.0->tensorflow) (4.6)\n",
            "Requirement already satisfied: pyasn1-modules>=0.2.1 in /usr/local/lib/python3.6/dist-packages (from google-auth<2,>=1.6.3->tensorboard<2.3.0,>=2.2.0->tensorflow) (0.2.8)\n",
            "Requirement already satisfied: requests-oauthlib>=0.7.0 in /usr/local/lib/python3.6/dist-packages (from google-auth-oauthlib<0.5,>=0.4.1->tensorboard<2.3.0,>=2.2.0->tensorflow) (1.3.0)\n",
            "Requirement already satisfied: importlib-metadata; python_version < \"3.8\" in /usr/local/lib/python3.6/dist-packages (from markdown>=2.6.8->tensorboard<2.3.0,>=2.2.0->tensorflow) (1.7.0)\n",
            "Requirement already satisfied: certifi>=2017.4.17 in /usr/local/lib/python3.6/dist-packages (from requests<3,>=2.21.0->tensorboard<2.3.0,>=2.2.0->tensorflow) (2020.6.20)\n",
            "Requirement already satisfied: idna<3,>=2.5 in /usr/local/lib/python3.6/dist-packages (from requests<3,>=2.21.0->tensorboard<2.3.0,>=2.2.0->tensorflow) (2.10)\n",
            "Requirement already satisfied: urllib3!=1.25.0,!=1.25.1,<1.26,>=1.21.1 in /usr/local/lib/python3.6/dist-packages (from requests<3,>=2.21.0->tensorboard<2.3.0,>=2.2.0->tensorflow) (1.24.3)\n",
            "Requirement already satisfied: chardet<4,>=3.0.2 in /usr/local/lib/python3.6/dist-packages (from requests<3,>=2.21.0->tensorboard<2.3.0,>=2.2.0->tensorflow) (3.0.4)\n",
            "Requirement already satisfied: pyasn1>=0.1.3 in /usr/local/lib/python3.6/dist-packages (from rsa<5,>=3.1.4; python_version >= \"3\"->google-auth<2,>=1.6.3->tensorboard<2.3.0,>=2.2.0->tensorflow) (0.4.8)\n",
            "Requirement already satisfied: oauthlib>=3.0.0 in /usr/local/lib/python3.6/dist-packages (from requests-oauthlib>=0.7.0->google-auth-oauthlib<0.5,>=0.4.1->tensorboard<2.3.0,>=2.2.0->tensorflow) (3.1.0)\n",
            "Requirement already satisfied: zipp>=0.5 in /usr/local/lib/python3.6/dist-packages (from importlib-metadata; python_version < \"3.8\"->markdown>=2.6.8->tensorboard<2.3.0,>=2.2.0->tensorflow) (3.1.0)\n"
          ],
          "name": "stdout"
        }
      ]
    },
    {
      "cell_type": "code",
      "metadata": {
        "id": "OP4U5YU9m836",
        "colab": {
          "base_uri": "https://localhost:8080/",
          "height": 121
        },
        "outputId": "95b4d2f6-cefb-43d5-d0ec-d1ab2c825996"
      },
      "source": [
        "from google.colab import drive\n",
        "drive.mount('/content/drive')"
      ],
      "execution_count": null,
      "outputs": [
        {
          "output_type": "stream",
          "text": [
            "Go to this URL in a browser: https://accounts.google.com/o/oauth2/auth?client_id=947318989803-6bn6qk8qdgf4n4g3pfee6491hc0brc4i.apps.googleusercontent.com&redirect_uri=urn%3aietf%3awg%3aoauth%3a2.0%3aoob&response_type=code&scope=email%20https%3a%2f%2fwww.googleapis.com%2fauth%2fdocs.test%20https%3a%2f%2fwww.googleapis.com%2fauth%2fdrive%20https%3a%2f%2fwww.googleapis.com%2fauth%2fdrive.photos.readonly%20https%3a%2f%2fwww.googleapis.com%2fauth%2fpeopleapi.readonly\n",
            "\n",
            "Enter your authorization code:\n",
            "··········\n",
            "Mounted at /content/drive\n"
          ],
          "name": "stdout"
        }
      ]
    },
    {
      "cell_type": "code",
      "metadata": {
        "id": "MBSSD36Oi4r6",
        "colab": {
          "base_uri": "https://localhost:8080/",
          "height": 212
        },
        "outputId": "6f6a4651-022f-410e-95f3-e556b3056c1d"
      },
      "source": [
        "import pandas as pd\n",
        "from matplotlib import pyplot\n",
        "from math import sqrt \n",
        "import numpy as np \n",
        "from PIL import Image\n",
        "from PIL import ImageTk\n",
        "from IPython.display import display \n",
        "from keras.utils import np_utils\n",
        "from keras.preprocessing.image import ImageDataGenerator \n",
        "from keras.utils import plot_model\n",
        "from keras.models import Model\n",
        "from keras.layers import Input, Dense, Flatten, Dropout, BatchNormalization\n",
        "from keras.layers.convolutional import Conv2D\n",
        "from keras.layers.pooling import MaxPooling2D\n",
        "from keras.layers.merge import concatenate\n",
        "from keras.optimizers import Adam, SGD, RMSprop, Adadelta\n",
        "from keras.regularizers import l1, l2\n",
        "from matplotlib import pyplot as plt\n",
        "from sklearn.metrics import confusion_matrix\n",
        "import itertools\n",
        "%matplotlib inline\n",
        "datafile = '/content/drive/My Drive/fer2013.csv'\n",
        "data=pd.read_csv(datafile)\n",
        "\n",
        "data.head()\n"
      ],
      "execution_count": null,
      "outputs": [
        {
          "output_type": "stream",
          "text": [
            "Using TensorFlow backend.\n"
          ],
          "name": "stderr"
        },
        {
          "output_type": "execute_result",
          "data": {
            "text/html": [
              "<div>\n",
              "<style scoped>\n",
              "    .dataframe tbody tr th:only-of-type {\n",
              "        vertical-align: middle;\n",
              "    }\n",
              "\n",
              "    .dataframe tbody tr th {\n",
              "        vertical-align: top;\n",
              "    }\n",
              "\n",
              "    .dataframe thead th {\n",
              "        text-align: right;\n",
              "    }\n",
              "</style>\n",
              "<table border=\"1\" class=\"dataframe\">\n",
              "  <thead>\n",
              "    <tr style=\"text-align: right;\">\n",
              "      <th></th>\n",
              "      <th>emotion</th>\n",
              "      <th>pixels</th>\n",
              "      <th>Usage</th>\n",
              "    </tr>\n",
              "  </thead>\n",
              "  <tbody>\n",
              "    <tr>\n",
              "      <th>0</th>\n",
              "      <td>0</td>\n",
              "      <td>70 80 82 72 58 58 60 63 54 58 60 48 89 115 121...</td>\n",
              "      <td>Training</td>\n",
              "    </tr>\n",
              "    <tr>\n",
              "      <th>1</th>\n",
              "      <td>0</td>\n",
              "      <td>151 150 147 155 148 133 111 140 170 174 182 15...</td>\n",
              "      <td>Training</td>\n",
              "    </tr>\n",
              "    <tr>\n",
              "      <th>2</th>\n",
              "      <td>2</td>\n",
              "      <td>231 212 156 164 174 138 161 173 182 200 106 38...</td>\n",
              "      <td>Training</td>\n",
              "    </tr>\n",
              "    <tr>\n",
              "      <th>3</th>\n",
              "      <td>4</td>\n",
              "      <td>24 32 36 30 32 23 19 20 30 41 21 22 32 34 21 1...</td>\n",
              "      <td>Training</td>\n",
              "    </tr>\n",
              "    <tr>\n",
              "      <th>4</th>\n",
              "      <td>6</td>\n",
              "      <td>4 0 0 0 0 0 0 0 0 0 0 0 3 15 23 28 48 50 58 84...</td>\n",
              "      <td>Training</td>\n",
              "    </tr>\n",
              "  </tbody>\n",
              "</table>\n",
              "</div>"
            ],
            "text/plain": [
              "   emotion                                             pixels     Usage\n",
              "0        0  70 80 82 72 58 58 60 63 54 58 60 48 89 115 121...  Training\n",
              "1        0  151 150 147 155 148 133 111 140 170 174 182 15...  Training\n",
              "2        2  231 212 156 164 174 138 161 173 182 200 106 38...  Training\n",
              "3        4  24 32 36 30 32 23 19 20 30 41 21 22 32 34 21 1...  Training\n",
              "4        6  4 0 0 0 0 0 0 0 0 0 0 0 3 15 23 28 48 50 58 84...  Training"
            ]
          },
          "metadata": {
            "tags": []
          },
          "execution_count": 4
        }
      ]
    },
    {
      "cell_type": "code",
      "metadata": {
        "id": "-08GDycVjNEP"
      },
      "source": [
        "from pylab import rcParams\n",
        "rcParams['figure.figsize'] = 15, 10"
      ],
      "execution_count": null,
      "outputs": []
    },
    {
      "cell_type": "code",
      "metadata": {
        "id": "IaL3VlepjTYR",
        "colab": {
          "base_uri": "https://localhost:8080/",
          "height": 254
        },
        "outputId": "dd5c3403-ea8f-4626-f96c-ae9806b43b63"
      },
      "source": [
        "emotion_map = {0:'Angry', 1:'Disgust', 2:'Fear', 3:'Happy', 4:'Sad', 5:'Surprise', 6:'Neutral'}\n",
        "emotion_counts = data['emotion'].value_counts().reset_index()\n",
        "emotion_counts.columns = ['emotion', 'number']\n",
        "emotion_counts['emotion'] = emotion_counts['emotion'].map(emotion_map)\n",
        "emotion_counts"
      ],
      "execution_count": null,
      "outputs": [
        {
          "output_type": "execute_result",
          "data": {
            "text/html": [
              "<div>\n",
              "<style scoped>\n",
              "    .dataframe tbody tr th:only-of-type {\n",
              "        vertical-align: middle;\n",
              "    }\n",
              "\n",
              "    .dataframe tbody tr th {\n",
              "        vertical-align: top;\n",
              "    }\n",
              "\n",
              "    .dataframe thead th {\n",
              "        text-align: right;\n",
              "    }\n",
              "</style>\n",
              "<table border=\"1\" class=\"dataframe\">\n",
              "  <thead>\n",
              "    <tr style=\"text-align: right;\">\n",
              "      <th></th>\n",
              "      <th>emotion</th>\n",
              "      <th>number</th>\n",
              "    </tr>\n",
              "  </thead>\n",
              "  <tbody>\n",
              "    <tr>\n",
              "      <th>0</th>\n",
              "      <td>Happy</td>\n",
              "      <td>8989</td>\n",
              "    </tr>\n",
              "    <tr>\n",
              "      <th>1</th>\n",
              "      <td>Neutral</td>\n",
              "      <td>6198</td>\n",
              "    </tr>\n",
              "    <tr>\n",
              "      <th>2</th>\n",
              "      <td>Sad</td>\n",
              "      <td>6077</td>\n",
              "    </tr>\n",
              "    <tr>\n",
              "      <th>3</th>\n",
              "      <td>Fear</td>\n",
              "      <td>5121</td>\n",
              "    </tr>\n",
              "    <tr>\n",
              "      <th>4</th>\n",
              "      <td>Angry</td>\n",
              "      <td>4953</td>\n",
              "    </tr>\n",
              "    <tr>\n",
              "      <th>5</th>\n",
              "      <td>Surprise</td>\n",
              "      <td>4002</td>\n",
              "    </tr>\n",
              "    <tr>\n",
              "      <th>6</th>\n",
              "      <td>Disgust</td>\n",
              "      <td>547</td>\n",
              "    </tr>\n",
              "  </tbody>\n",
              "</table>\n",
              "</div>"
            ],
            "text/plain": [
              "    emotion  number\n",
              "0     Happy    8989\n",
              "1   Neutral    6198\n",
              "2       Sad    6077\n",
              "3      Fear    5121\n",
              "4     Angry    4953\n",
              "5  Surprise    4002\n",
              "6   Disgust     547"
            ]
          },
          "metadata": {
            "tags": []
          },
          "execution_count": 6
        }
      ]
    },
    {
      "cell_type": "code",
      "metadata": {
        "id": "lSt2omNBjY2d"
      },
      "source": [
        "num_classes = 7\n",
        "width = 48\n",
        "height = 48\n",
        "emotion_labels = [\"Angry\", \"Disgust\", \"Fear\", \"Happy\", \"Sad\", \"Surprise\", \"Neutral\"]\n",
        "classes=np.array((\"Angry\", \"Disgust\", \"Fear\", \"Happy\", \"Sad\", \"Surprise\", \"Neutral\"))"
      ],
      "execution_count": null,
      "outputs": []
    },
    {
      "cell_type": "code",
      "metadata": {
        "id": "yXOmyD6ajenq",
        "colab": {
          "base_uri": "https://localhost:8080/",
          "height": 84
        },
        "outputId": "ead1fb11-11dd-43f9-f44e-b137d17ef452"
      },
      "source": [
        "data.Usage.value_counts() "
      ],
      "execution_count": null,
      "outputs": [
        {
          "output_type": "execute_result",
          "data": {
            "text/plain": [
              "Training       28709\n",
              "PrivateTest     3589\n",
              "PublicTest      3589\n",
              "Name: Usage, dtype: int64"
            ]
          },
          "metadata": {
            "tags": []
          },
          "execution_count": 8
        }
      ]
    },
    {
      "cell_type": "code",
      "metadata": {
        "id": "2ZkiGslijpqu"
      },
      "source": [
        "depth = 1\n",
        "height = int(sqrt(len(data.pixels[0].split()))) \n",
        "width = int(height)"
      ],
      "execution_count": null,
      "outputs": []
    },
    {
      "cell_type": "code",
      "metadata": {
        "id": "8YxbIVeWjrvS",
        "colab": {
          "base_uri": "https://localhost:8080/",
          "height": 406
        },
        "outputId": "3aa8d060-c916-4e81-9a39-a8fd2bc82716"
      },
      "source": [
        "for i in range(0,6): \n",
        "    #array = np.mat(data.pixels[i]).reshape(height, width) \n",
        "    array= data.pixels[i]\n",
        "    image =Image.fromarray(np.uint8(np.reshape(array.split(), (48, 48))))\n",
        "    display(image)\n",
        "    #plt.imshow(image)\n",
        "    print(emotion_labels[data.emotion[i]]) "
      ],
      "execution_count": null,
      "outputs": [
        {
          "output_type": "display_data",
          "data": {
            "image/png": "[encoded data removed]",
            "text/plain": [
              "<PIL.Image.Image image mode=L size=48x48 at 0x7F49AEC23F60>"
            ]
          },
          "metadata": {
            "tags": []
          }
        },
        {
          "output_type": "stream",
          "text": [
            "Angry\n"
          ],
          "name": "stdout"
        },
        {
          "output_type": "display_data",
          "data": {
            "image/png": "[encoded data removed]",
            "text/plain": [
              "<PIL.Image.Image image mode=L size=48x48 at 0x7F49AE936588>"
            ]
          },
          "metadata": {
            "tags": []
          }
        },
        {
          "output_type": "stream",
          "text": [
            "Angry\n"
          ],
          "name": "stdout"
        },
        {
          "output_type": "display_data",
          "data": {
            "image/png": "[encoded data removed]",
            "text/plain": [
              "<PIL.Image.Image image mode=L size=48x48 at 0x7F49AE936A58>"
            ]
          },
          "metadata": {
            "tags": []
          }
        },
        {
          "output_type": "stream",
          "text": [
            "Fear\n"
          ],
          "name": "stdout"
        },
        {
          "output_type": "display_data",
          "data": {
            "image/png": "[encoded data removed]",
            "text/plain": [
              "<PIL.Image.Image image mode=L size=48x48 at 0x7F49AE936A20>"
            ]
          },
          "metadata": {
            "tags": []
          }
        },
        {
          "output_type": "stream",
          "text": [
            "Sad\n"
          ],
          "name": "stdout"
        },
        {
          "output_type": "display_data",
          "data": {
            "image/png": "[encoded data removed]",
            "text/plain": [
              "<PIL.Image.Image image mode=L size=48x48 at 0x7F49AEC23F98>"
            ]
          },
          "metadata": {
            "tags": []
          }
        },
        {
          "output_type": "stream",
          "text": [
            "Neutral\n"
          ],
          "name": "stdout"
        },
        {
          "output_type": "display_data",
          "data": {
            "image/png": "[encoded data removed]",
            "text/plain": [
              "<PIL.Image.Image image mode=L size=48x48 at 0x7F49AE936AC8>"
            ]
          },
          "metadata": {
            "tags": []
          }
        },
        {
          "output_type": "stream",
          "text": [
            "Fear\n"
          ],
          "name": "stdout"
        }
      ]
    },
    {
      "cell_type": "code",
      "metadata": {
        "id": "g1u2YUE8qUic"
      },
      "source": [
        "train_set = data[(data.Usage == 'Training')] \n",
        "val_set = data[(data.Usage == 'PublicTest')]\n",
        "test_set = data[(data.Usage == 'PrivateTest')] \n",
        "X_train = np.array(list(map(str.split, train_set.pixels)), np.float32) \n",
        "X_val = np.array(list(map(str.split, val_set.pixels)), np.float32) \n",
        "X_test = np.array(list(map(str.split, test_set.pixels)), np.float32) \n",
        "X_train = X_train.reshape(X_train.shape[0], 48, 48, 1) \n",
        "X_val = X_val.reshape(X_val.shape[0], 48, 48, 1)\n",
        "X_test = X_test.reshape(X_test.shape[0], 48, 48, 1)"
      ],
      "execution_count": null,
      "outputs": []
    },
    {
      "cell_type": "code",
      "metadata": {
        "id": "whvOi1loqaaF"
      },
      "source": [
        "num_train = X_train.shape[0]\n",
        "num_val = X_val.shape[0]\n",
        "num_test = X_test.shape[0]"
      ],
      "execution_count": null,
      "outputs": []
    },
    {
      "cell_type": "code",
      "metadata": {
        "id": "3p8WgxO8qfIS"
      },
      "source": [
        "y_train = train_set.emotion \n",
        "y_train = np_utils.to_categorical(y_train, num_classes) \n",
        "y_val = val_set.emotion \n",
        "y_val = np_utils.to_categorical(y_val, num_classes) \n",
        "y_test = test_set.emotion \n",
        "y_test = np_utils.to_categorical(y_test, num_classes) "
      ],
      "execution_count": null,
      "outputs": []
    },
    {
      "cell_type": "code",
      "metadata": {
        "id": "mtJFCC2_qjMr"
      },
      "source": [
        "datagen = ImageDataGenerator( \n",
        "    rescale=1./255,\n",
        "    rotation_range = 20, # changed from 10 to 20\n",
        "    horizontal_flip = True,\n",
        "    vertical_flip = False, # added\n",
        "    width_shift_range=0.2, # changed from 0.1 to 0.2\n",
        "    height_shift_range=0.2, # chaged from 0.1 to 0.2\n",
        "    zoom_range=0.0, # added\n",
        "    zca_whitening=False, # added\n",
        "    validation_split = 0.0, # added\n",
        "    fill_mode = 'nearest')\n",
        "\n",
        "testgen = ImageDataGenerator( \n",
        "    rescale=1./255\n",
        "    )\n",
        "datagen.fit(X_train)\n",
        "batch_size = 64"
      ],
      "execution_count": null,
      "outputs": []
    },
    {
      "cell_type": "code",
      "metadata": {
        "id": "qIHnopGCqnYZ",
        "colab": {
          "base_uri": "https://localhost:8080/",
          "height": 575
        },
        "outputId": "024cc5fe-c6bc-4b80-a998-08af4f8e4110"
      },
      "source": [
        "for X_batch, y_batch in datagen.flow(X_train, y_train, batch_size=9):\n",
        "    for i in range(0, 9): \n",
        "        pyplot.axis('off') \n",
        "        pyplot.subplot(330 + 1 + i) \n",
        "        pyplot.imshow(X_batch[i].reshape(48, 48), cmap=pyplot.get_cmap('gray'))\n",
        "    pyplot.axis('off') \n",
        "    pyplot.show() \n",
        "    break "
      ],
      "execution_count": null,
      "outputs": [
        {
          "output_type": "display_data",
          "data": {
            "image/png": "[encoded data removed]",
            "text/plain": [
              "<Figure size 1080x720 with 9 Axes>"
            ]
          },
          "metadata": {
            "tags": [],
            "needs_background": "light"
          }
        }
      ]
    },
    {
      "cell_type": "code",
      "metadata": {
        "id": "PsQKyEwCqx2I"
      },
      "source": [
        "train_flow = datagen.flow(X_train, y_train, batch_size=batch_size) \n",
        "val_flow = testgen.flow(X_val, y_val, batch_size=batch_size) \n",
        "test_flow = testgen.flow(X_test, y_test, batch_size=batch_size) "
      ],
      "execution_count": null,
      "outputs": []
    },
    {
      "cell_type": "code",
      "metadata": {
        "id": "TdGSHiX9q21H"
      },
      "source": [
        "  #Accuracy testing by adding one more block \n",
        "\n",
        "  def FER_Model(input_shape=(48,48,1)):\n",
        "     \n",
        "    # first input model\n",
        "    visible = Input(shape=input_shape, name='input')\n",
        "    num_classes = 7\n",
        "    #the 1-st block\n",
        "    conv1_1 = Conv2D(64, kernel_size=3, activation='relu', padding='same', name = 'conv1_1')(visible)\n",
        "    conv1_1 = BatchNormalization()(conv1_1)\n",
        "    conv1_2 = Conv2D(64, kernel_size=3, activation='relu', padding='same', name = 'conv1_2')(conv1_1)\n",
        "    conv1_2 = BatchNormalization()(conv1_2)\n",
        "    pool1_1 = MaxPooling2D(pool_size=(2,2), name = 'pool1_1')(conv1_2)\n",
        "    drop1_1 = Dropout(0.3, name = 'drop1_1')(pool1_1)\n",
        "\n",
        "    #the 2-nd block\n",
        "    conv2_1 = Conv2D(128, kernel_size=3, activation='relu', padding='same', name = 'conv2_1')(drop1_1)\n",
        "    conv2_1 = BatchNormalization()(conv2_1)\n",
        "    conv2_2 = Conv2D(128, kernel_size=3, activation='relu', padding='same', name = 'conv2_2')(conv2_1)\n",
        "    conv2_2 = BatchNormalization()(conv2_2)\n",
        "    conv2_3 = Conv2D(128, kernel_size=3, activation='relu', padding='same', name = 'conv2_3')(conv2_2)\n",
        "    conv2_2 = BatchNormalization()(conv2_3)\n",
        "    pool2_1 = MaxPooling2D(pool_size=(2,2), name = 'pool2_1')(conv2_3)\n",
        "    drop2_1 = Dropout(0.3, name = 'drop2_1')(pool2_1)\n",
        "\n",
        "    #the 3-rd block\n",
        "    conv3_1 = Conv2D(256, kernel_size=3, activation='relu', padding='same', name = 'conv3_1')(drop2_1)\n",
        "    conv3_1 = BatchNormalization()(conv3_1)\n",
        "    conv3_2 = Conv2D(256, kernel_size=3, activation='relu', padding='same', name = 'conv3_2')(conv3_1)\n",
        "    conv3_2 = BatchNormalization()(conv3_2)\n",
        "    conv3_3 = Conv2D(256, kernel_size=3, activation='relu', padding='same', name = 'conv3_3')(conv3_2)\n",
        "    conv3_3 = BatchNormalization()(conv3_3)\n",
        "    conv3_4 = Conv2D(256, kernel_size=3, activation='relu', padding='same', name = 'conv3_4')(conv3_3)\n",
        "    conv3_4 = BatchNormalization()(conv3_4)\n",
        "    pool3_1 = MaxPooling2D(pool_size=(2,2), name = 'pool3_1')(conv3_4)\n",
        "    drop3_1 = Dropout(0.3, name = 'drop3_1')(pool3_1)\n",
        "\n",
        "    #the 4-th block\n",
        "    conv4_1 = Conv2D(512, kernel_size=3, activation='relu', padding='same', name = 'conv4_1')(drop3_1)\n",
        "    conv4_1 = BatchNormalization()(conv4_1)\n",
        "    conv4_2 = Conv2D(512, kernel_size=3, activation='relu', padding='same', name = 'conv4_2')(conv4_1)\n",
        "    conv4_2 = BatchNormalization()(conv4_2)\n",
        "    conv4_3 = Conv2D(512, kernel_size=3, activation='relu', padding='same', name = 'conv4_3')(conv4_2)\n",
        "    conv4_3 = BatchNormalization()(conv4_3)\n",
        "    conv4_4 = Conv2D(512, kernel_size=3, activation='relu', padding='same', name = 'conv4_4')(conv4_3)\n",
        "    conv4_4 = BatchNormalization()(conv4_4)\n",
        "    pool4_1 = MaxPooling2D(pool_size=(2,2), name = 'pool4_1')(conv4_4)\n",
        "    drop4_1 = Dropout(0.3, name = 'drop4_1')(pool4_1)\n",
        "\n",
        "    #the 5-th block\n",
        "    conv5_1 = Conv2D(512, kernel_size=3, activation='relu', padding='same', name = 'conv5_1')(drop4_1)\n",
        "    conv5_1 = BatchNormalization()(conv5_1)\n",
        "    conv5_2 = Conv2D(512, kernel_size=3, activation='relu', padding='same', name = 'conv5_2')(conv5_1)\n",
        "    conv5_2 = BatchNormalization()(conv5_2)\n",
        "    conv5_3 = Conv2D(512, kernel_size=3, activation='relu', padding='same', name = 'conv5_3')(conv5_2)\n",
        "    conv5_3 = BatchNormalization()(conv5_3)\n",
        "    conv5_4 = Conv2D(512, kernel_size=3, activation='relu', padding='same', name = 'conv5_4')(conv5_3)\n",
        "    conv5_3 = BatchNormalization()(conv5_4)\n",
        "    pool5_1 = MaxPooling2D(pool_size=(2,2), name = 'pool5_1')(conv5_4)\n",
        "    drop5_1 = Dropout(0.3, name = 'drop5_1')(pool5_1)\n",
        "\n",
        "     #the 6-th block\n",
        "   # conv6_1 = Conv2D(512, kernel_size=3, activation='relu', padding='same', name = 'conv5_1')(drop5_1)\n",
        "   # conv6_1 = BatchNormalization()(conv6_1)\n",
        "   # conv6_2 = Conv2D(512, kernel_size=3, activation='relu', padding='same', name = 'conv5_2')(conv6_1)\n",
        "   # conv6_2 = BatchNormalization()(conv6_2)\n",
        "   # conv6_3 = Conv2D(512, kernel_size=3, activation='relu', padding='same', name = 'conv5_3')(conv6_2)\n",
        "   # conv6_3 = BatchNormalization()(conv6_3)\n",
        "   # conv6_4 = Conv2D(512, kernel_size=3, activation='relu', padding='same', name = 'conv5_4')(conv6_3)\n",
        "   # conv6_3 = BatchNormalization()(conv6_4)\n",
        "   # pool6_1 = MaxPooling2D(pool_size=(2,2), name = 'pool5_1')(conv6_4)\n",
        "   # drop6_1 = Dropout(0.3, name = 'drop6_1')(pool6_1)\n",
        "\n",
        "    #Flatten and output\n",
        "    flatten = Flatten(name = 'flatten')(drop5_1)\n",
        "    ouput = Dense(num_classes, activation='softmax', name = 'output')(flatten)\n",
        "\n",
        "    # create model \n",
        "    model = Model(inputs =visible, outputs = ouput)\n",
        "\n",
        "    # summary layers\n",
        "    print(model.summary())\n",
        "    \n",
        "    return model"
      ],
      "execution_count": null,
      "outputs": []
    },
    {
      "cell_type": "code",
      "metadata": {
        "id": "-Hlc4LaLr2tI",
        "colab": {
          "base_uri": "https://localhost:8080/",
          "height": 1000
        },
        "outputId": "faf4a881-2211-433b-a7e8-d58428701a1d"
      },
      "source": [
        "model = FER_Model()\n",
        "opt = Adam(lr=0.0001, decay=1e-6)\n",
        "model.compile(loss='categorical_crossentropy', optimizer=opt, metrics=['accuracy']) \n",
        "#1 using SGD optimizer instead of Adam\n",
        "#2 using RMSprop instead of SGD\n",
        "#3 using Adadelta instead of RSMprop"
      ],
      "execution_count": null,
      "outputs": [
        {
          "output_type": "stream",
          "text": [
            "Model: \"model_2\"\n",
            "_________________________________________________________________\n",
            "Layer (type)                 Output Shape              Param #   \n",
            "=================================================================\n",
            "input (InputLayer)           (None, 48, 48, 1)         0         \n",
            "_________________________________________________________________\n",
            "conv1_1 (Conv2D)             (None, 48, 48, 64)        640       \n",
            "_________________________________________________________________\n",
            "batch_normalization_19 (Batc (None, 48, 48, 64)        256       \n",
            "_________________________________________________________________\n",
            "conv1_2 (Conv2D)             (None, 48, 48, 64)        36928     \n",
            "_________________________________________________________________\n",
            "batch_normalization_20 (Batc (None, 48, 48, 64)        256       \n",
            "_________________________________________________________________\n",
            "pool1_1 (MaxPooling2D)       (None, 24, 24, 64)        0         \n",
            "_________________________________________________________________\n",
            "drop1_1 (Dropout)            (None, 24, 24, 64)        0         \n",
            "_________________________________________________________________\n",
            "conv2_1 (Conv2D)             (None, 24, 24, 128)       73856     \n",
            "_________________________________________________________________\n",
            "batch_normalization_21 (Batc (None, 24, 24, 128)       512       \n",
            "_________________________________________________________________\n",
            "conv2_2 (Conv2D)             (None, 24, 24, 128)       147584    \n",
            "_________________________________________________________________\n",
            "batch_normalization_22 (Batc (None, 24, 24, 128)       512       \n",
            "_________________________________________________________________\n",
            "conv2_3 (Conv2D)             (None, 24, 24, 128)       147584    \n",
            "_________________________________________________________________\n",
            "pool2_1 (MaxPooling2D)       (None, 12, 12, 128)       0         \n",
            "_________________________________________________________________\n",
            "drop2_1 (Dropout)            (None, 12, 12, 128)       0         \n",
            "_________________________________________________________________\n",
            "conv3_1 (Conv2D)             (None, 12, 12, 256)       295168    \n",
            "_________________________________________________________________\n",
            "batch_normalization_24 (Batc (None, 12, 12, 256)       1024      \n",
            "_________________________________________________________________\n",
            "conv3_2 (Conv2D)             (None, 12, 12, 256)       590080    \n",
            "_________________________________________________________________\n",
            "batch_normalization_25 (Batc (None, 12, 12, 256)       1024      \n",
            "_________________________________________________________________\n",
            "conv3_3 (Conv2D)             (None, 12, 12, 256)       590080    \n",
            "_________________________________________________________________\n",
            "batch_normalization_26 (Batc (None, 12, 12, 256)       1024      \n",
            "_________________________________________________________________\n",
            "conv3_4 (Conv2D)             (None, 12, 12, 256)       590080    \n",
            "_________________________________________________________________\n",
            "batch_normalization_27 (Batc (None, 12, 12, 256)       1024      \n",
            "_________________________________________________________________\n",
            "pool3_1 (MaxPooling2D)       (None, 6, 6, 256)         0         \n",
            "_________________________________________________________________\n",
            "drop3_1 (Dropout)            (None, 6, 6, 256)         0         \n",
            "_________________________________________________________________\n",
            "conv4_1 (Conv2D)             (None, 6, 6, 512)         1180160   \n",
            "_________________________________________________________________\n",
            "batch_normalization_28 (Batc (None, 6, 6, 512)         2048      \n",
            "_________________________________________________________________\n",
            "conv4_2 (Conv2D)             (None, 6, 6, 512)         2359808   \n",
            "_________________________________________________________________\n",
            "batch_normalization_29 (Batc (None, 6, 6, 512)         2048      \n",
            "_________________________________________________________________\n",
            "conv4_3 (Conv2D)             (None, 6, 6, 512)         2359808   \n",
            "_________________________________________________________________\n",
            "batch_normalization_30 (Batc (None, 6, 6, 512)         2048      \n",
            "_________________________________________________________________\n",
            "conv4_4 (Conv2D)             (None, 6, 6, 512)         2359808   \n",
            "_________________________________________________________________\n",
            "batch_normalization_31 (Batc (None, 6, 6, 512)         2048      \n",
            "_________________________________________________________________\n",
            "pool4_1 (MaxPooling2D)       (None, 3, 3, 512)         0         \n",
            "_________________________________________________________________\n",
            "drop4_1 (Dropout)            (None, 3, 3, 512)         0         \n",
            "_________________________________________________________________\n",
            "conv5_1 (Conv2D)             (None, 3, 3, 512)         2359808   \n",
            "_________________________________________________________________\n",
            "batch_normalization_32 (Batc (None, 3, 3, 512)         2048      \n",
            "_________________________________________________________________\n",
            "conv5_2 (Conv2D)             (None, 3, 3, 512)         2359808   \n",
            "_________________________________________________________________\n",
            "batch_normalization_33 (Batc (None, 3, 3, 512)         2048      \n",
            "_________________________________________________________________\n",
            "conv5_3 (Conv2D)             (None, 3, 3, 512)         2359808   \n",
            "_________________________________________________________________\n",
            "batch_normalization_34 (Batc (None, 3, 3, 512)         2048      \n",
            "_________________________________________________________________\n",
            "conv5_4 (Conv2D)             (None, 3, 3, 512)         2359808   \n",
            "_________________________________________________________________\n",
            "pool5_1 (MaxPooling2D)       (None, 1, 1, 512)         0         \n",
            "_________________________________________________________________\n",
            "drop5_1 (Dropout)            (None, 1, 1, 512)         0         \n",
            "_________________________________________________________________\n",
            "flatten (Flatten)            (None, 512)               0         \n",
            "_________________________________________________________________\n",
            "output (Dense)               (None, 7)                 3591      \n",
            "=================================================================\n",
            "Total params: 20,194,375\n",
            "Trainable params: 20,184,391\n",
            "Non-trainable params: 9,984\n",
            "_________________________________________________________________\n",
            "None\n"
          ],
          "name": "stdout"
        }
      ]
    },
    {
      "cell_type": "code",
      "metadata": {
        "id": "wQLLH6Upr86B"
      },
      "source": [
        "from keras.callbacks import ModelCheckpoint\n",
        "filepath=\"weights_min_loss.hdf5\"\n",
        "checkpoint = ModelCheckpoint(filepath, monitor='val_loss', verbose=1, save_best_only=True, mode='min')\n",
        "callbacks_list = [checkpoint]"
      ],
      "execution_count": null,
      "outputs": []
    },
    {
      "cell_type": "code",
      "metadata": {
        "id": "AbrONO9jsCqV",
        "colab": {
          "base_uri": "https://localhost:8080/",
          "height": 1000
        },
        "outputId": "b1a6df7d-9ae1-4049-985a-68ada8d36554"
      },
      "source": [
        "num_epochs = 30 # we iterate 25 times over the entire training set \n",
        "history = model.fit_generator(train_flow, \n",
        "                    steps_per_epoch=len(X_train) / batch_size, \n",
        "                    epochs=num_epochs,  \n",
        "                    verbose=2,  \n",
        "                    callbacks=callbacks_list,\n",
        "                    validation_data=val_flow,  \n",
        "                    validation_steps=len(X_val) / batch_size) "
      ],
      "execution_count": null,
      "outputs": [
        {
          "output_type": "stream",
          "text": [
            "Epoch 1/30\n",
            " - 68s - loss: 2.0010 - accuracy: 0.2148 - val_loss: 1.4496 - val_accuracy: 0.2505\n",
            "\n",
            "Epoch 00001: val_loss improved from inf to 1.44956, saving model to weights_min_loss.hdf5\n",
            "Epoch 2/30\n",
            " - 65s - loss: 1.7922 - accuracy: 0.2518 - val_loss: 1.6471 - val_accuracy: 0.2524\n",
            "\n",
            "Epoch 00002: val_loss did not improve from 1.44956\n",
            "Epoch 3/30\n",
            " - 65s - loss: 1.7798 - accuracy: 0.2604 - val_loss: 1.9152 - val_accuracy: 0.2524\n",
            "\n",
            "Epoch 00003: val_loss did not improve from 1.44956\n",
            "Epoch 4/30\n",
            " - 65s - loss: 1.7667 - accuracy: 0.2650 - val_loss: 1.8781 - val_accuracy: 0.2689\n",
            "\n",
            "Epoch 00004: val_loss did not improve from 1.44956\n",
            "Epoch 5/30\n",
            " - 65s - loss: 1.7286 - accuracy: 0.2959 - val_loss: 1.7410 - val_accuracy: 0.3371\n",
            "\n",
            "Epoch 00005: val_loss did not improve from 1.44956\n",
            "Epoch 6/30\n",
            " - 65s - loss: 1.6785 - accuracy: 0.3282 - val_loss: 2.4210 - val_accuracy: 0.3257\n",
            "\n",
            "Epoch 00006: val_loss did not improve from 1.44956\n",
            "Epoch 7/30\n",
            " - 65s - loss: 1.6214 - accuracy: 0.3598 - val_loss: 1.1589 - val_accuracy: 0.4071\n",
            "\n",
            "Epoch 00007: val_loss improved from 1.44956 to 1.15885, saving model to weights_min_loss.hdf5\n",
            "Epoch 8/30\n",
            " - 65s - loss: 1.5418 - accuracy: 0.3995 - val_loss: 2.1333 - val_accuracy: 0.4508\n",
            "\n",
            "Epoch 00008: val_loss did not improve from 1.15885\n",
            "Epoch 9/30\n",
            " - 65s - loss: 1.4604 - accuracy: 0.4339 - val_loss: 1.3362 - val_accuracy: 0.4790\n",
            "\n",
            "Epoch 00009: val_loss did not improve from 1.15885\n",
            "Epoch 10/30\n",
            " - 65s - loss: 1.3985 - accuracy: 0.4690 - val_loss: 1.1838 - val_accuracy: 0.4684\n",
            "\n",
            "Epoch 00010: val_loss did not improve from 1.15885\n",
            "Epoch 11/30\n",
            " - 65s - loss: 1.3376 - accuracy: 0.4873 - val_loss: 1.2998 - val_accuracy: 0.5057\n",
            "\n",
            "Epoch 00011: val_loss did not improve from 1.15885\n",
            "Epoch 12/30\n",
            " - 65s - loss: 1.2957 - accuracy: 0.5093 - val_loss: 0.6437 - val_accuracy: 0.5052\n",
            "\n",
            "Epoch 00012: val_loss improved from 1.15885 to 0.64367, saving model to weights_min_loss.hdf5\n",
            "Epoch 13/30\n",
            " - 65s - loss: 1.2649 - accuracy: 0.5180 - val_loss: 0.7563 - val_accuracy: 0.5517\n",
            "\n",
            "Epoch 00013: val_loss did not improve from 0.64367\n",
            "Epoch 14/30\n",
            " - 65s - loss: 1.2296 - accuracy: 0.5345 - val_loss: 0.9468 - val_accuracy: 0.5481\n",
            "\n",
            "Epoch 00014: val_loss did not improve from 0.64367\n",
            "Epoch 15/30\n",
            " - 65s - loss: 1.1993 - accuracy: 0.5486 - val_loss: 1.5624 - val_accuracy: 0.5606\n",
            "\n",
            "Epoch 00015: val_loss did not improve from 0.64367\n",
            "Epoch 16/30\n",
            " - 65s - loss: 1.1729 - accuracy: 0.5576 - val_loss: 1.3363 - val_accuracy: 0.5642\n",
            "\n",
            "Epoch 00016: val_loss did not improve from 0.64367\n",
            "Epoch 17/30\n",
            " - 65s - loss: 1.1528 - accuracy: 0.5687 - val_loss: 1.7803 - val_accuracy: 0.5807\n",
            "\n",
            "Epoch 00017: val_loss did not improve from 0.64367\n",
            "Epoch 18/30\n",
            " - 65s - loss: 1.1355 - accuracy: 0.5736 - val_loss: 0.3730 - val_accuracy: 0.5851\n",
            "\n",
            "Epoch 00018: val_loss improved from 0.64367 to 0.37297, saving model to weights_min_loss.hdf5\n",
            "Epoch 19/30\n",
            " - 65s - loss: 1.1135 - accuracy: 0.5811 - val_loss: 1.0179 - val_accuracy: 0.5985\n",
            "\n",
            "Epoch 00019: val_loss did not improve from 0.37297\n",
            "Epoch 20/30\n",
            " - 65s - loss: 1.0960 - accuracy: 0.5871 - val_loss: 1.2783 - val_accuracy: 0.6138\n",
            "\n",
            "Epoch 00020: val_loss did not improve from 0.37297\n",
            "Epoch 21/30\n",
            " - 65s - loss: 1.0801 - accuracy: 0.5966 - val_loss: 1.3644 - val_accuracy: 0.6027\n",
            "\n",
            "Epoch 00021: val_loss did not improve from 0.37297\n",
            "Epoch 22/30\n",
            " - 65s - loss: 1.0692 - accuracy: 0.5990 - val_loss: 2.5193 - val_accuracy: 0.6130\n",
            "\n",
            "Epoch 00022: val_loss did not improve from 0.37297\n",
            "Epoch 23/30\n",
            " - 65s - loss: 1.0513 - accuracy: 0.6063 - val_loss: 0.9076 - val_accuracy: 0.6094\n",
            "\n",
            "Epoch 00023: val_loss did not improve from 0.37297\n",
            "Epoch 24/30\n",
            " - 65s - loss: 1.0428 - accuracy: 0.6083 - val_loss: 0.3985 - val_accuracy: 0.6074\n",
            "\n",
            "Epoch 00024: val_loss did not improve from 0.37297\n",
            "Epoch 25/30\n",
            " - 65s - loss: 1.0210 - accuracy: 0.6223 - val_loss: 1.9240 - val_accuracy: 0.6102\n",
            "\n",
            "Epoch 00025: val_loss did not improve from 0.37297\n",
            "Epoch 26/30\n",
            " - 65s - loss: 1.0067 - accuracy: 0.6245 - val_loss: 0.1383 - val_accuracy: 0.6230\n",
            "\n",
            "Epoch 00026: val_loss improved from 0.37297 to 0.13825, saving model to weights_min_loss.hdf5\n",
            "Epoch 27/30\n",
            " - 65s - loss: 0.9954 - accuracy: 0.6273 - val_loss: 0.7970 - val_accuracy: 0.6266\n",
            "\n",
            "Epoch 00027: val_loss did not improve from 0.13825\n",
            "Epoch 28/30\n",
            " - 65s - loss: 0.9817 - accuracy: 0.6347 - val_loss: 0.8256 - val_accuracy: 0.6194\n",
            "\n",
            "Epoch 00028: val_loss did not improve from 0.13825\n",
            "Epoch 29/30\n",
            " - 65s - loss: 0.9718 - accuracy: 0.6385 - val_loss: 0.4315 - val_accuracy: 0.6392\n",
            "\n",
            "Epoch 00029: val_loss did not improve from 0.13825\n",
            "Epoch 30/30\n",
            " - 65s - loss: 0.9623 - accuracy: 0.6420 - val_loss: 0.9225 - val_accuracy: 0.6305\n",
            "\n",
            "Epoch 00030: val_loss did not improve from 0.13825\n"
          ],
          "name": "stdout"
        }
      ]
    },
    {
      "cell_type": "code",
      "metadata": {
        "id": "Qk6ARvp2uBCA",
        "colab": {
          "base_uri": "https://localhost:8080/",
          "height": 606
        },
        "outputId": "65657ccf-6e6b-49f6-860f-5d66d0d1a8aa"
      },
      "source": [
        "# visualizing losses and accuracy\n",
        "%matplotlib inline\n",
        "train_acc=history.history['accuracy']\n",
        "epochs = range(len(train_acc))\n",
        "\n",
        "plt.plot(epochs,history.history['accuracy'],color='r', label='train_acc')\n",
        "plt.plot(epochs,history.history['val_accuracy'],color='b', label='val_acc')\n",
        "plt.title('train_acc vs val_acc')\n",
        "plt.xlabel('epoch')\n",
        "plt.ylabel('accuracy')\n",
        "plt.legend()\n",
        "plt.figure()\n",
        "\n",
        "plt.plot(epochs,history.history['loss'],color='r', label='train_loss')\n",
        "plt.plot(epochs,history.history['val_loss'],color='b', label='val_loss')\n",
        "plt.title('train_loss vs val_loss')\n",
        "plt.xlabel('epoch')\n",
        "plt.ylabel('loss')\n",
        "plt.legend()\n",
        "plt.figure()\n",
        " \n",
        "#train_loss=history.history['loss']\n",
        "#val_loss=history.history['val_loss']\n",
        "#train_acc=history.history['acc']\n",
        "#val_acc=history.history['val_acc']\n",
        "\n",
        "#epochs = range(len(train_acc))\n",
        "\n"
      ],
      "execution_count": null,
      "outputs": [
        {
          "output_type": "execute_result",
          "data": {
            "text/plain": [
              "<Figure size 432x288 with 0 Axes>"
            ]
          },
          "metadata": {
            "tags": []
          },
          "execution_count": 32
        },
        {
          "output_type": "display_data",
          "data": {
            "image/png": "[encoded data removed]",
            "text/plain": [
              "<Figure size 432x288 with 1 Axes>"
            ]
          },
          "metadata": {
            "tags": [],
            "needs_background": "light"
          }
        },
        {
          "output_type": "display_data",
          "data": {
            "image/png": "[encoded data removed]",
            "text/plain": [
              "<Figure size 432x288 with 1 Axes>"
            ]
          },
          "metadata": {
            "tags": [],
            "needs_background": "light"
          }
        },
        {
          "output_type": "display_data",
          "data": {
            "text/plain": [
              "<Figure size 432x288 with 0 Axes>"
            ]
          },
          "metadata": {
            "tags": []
          }
        }
      ]
    },
    {
      "cell_type": "code",
      "metadata": {
        "id": "3uNcvBO8vpC6",
        "colab": {
          "base_uri": "https://localhost:8080/",
          "height": 50
        },
        "outputId": "29b6f7ca-7532-47b4-868e-1b238a77b326"
      },
      "source": [
        "loss = model.evaluate_generator(test_flow, steps=len(X_test) / batch_size) \n",
        "print(\"Test Loss \" + str(loss[0]))\n",
        "print(\"Test Acc: \" + str(loss[1]))"
      ],
      "execution_count": null,
      "outputs": [
        {
          "output_type": "stream",
          "text": [
            "Test Loss 1.000598669052124\n",
            "Test Acc: 0.6375035047531128\n"
          ],
          "name": "stdout"
        }
      ]
    },
    {
      "cell_type": "code",
      "metadata": {
        "id": "kCs6uPKrv0eS"
      },
      "source": [
        "model.save('Fer2013.hdf5') "
      ],
      "execution_count": null,
      "outputs": []
    },
    {
      "cell_type": "code",
      "metadata": {
        "id": "uFXDIALmv5lu",
        "colab": {
          "base_uri": "https://localhost:8080/",
          "height": 67
        },
        "outputId": "7b5b8130-4c00-4ed8-dab2-33d8b009a2c4"
      },
      "source": [
        "loss = model.evaluate(X_test/255., y_test) \n",
        "print(\"Test Loss \" + str(loss[0]))\n",
        "print(\"Test Acc: \" + str(loss[1]))"
      ],
      "execution_count": null,
      "outputs": [
        {
          "output_type": "stream",
          "text": [
            "3589/3589 [==============================] - 3s 706us/step\n",
            "Test Loss 0.9698537407927142\n",
            "Test Acc: 0.6375035047531128\n"
          ],
          "name": "stdout"
        }
      ]
    },
    {
      "cell_type": "code",
      "metadata": {
        "id": "2mLdusGdwF17",
        "colab": {
          "base_uri": "https://localhost:8080/",
          "height": 67
        },
        "outputId": "094761f2-fdee-4afb-ba0d-43e5d662d5ce"
      },
      "source": [
        "loss = model.evaluate(X_val/255., y_val) \n",
        "print(\"Test Loss \" + str(loss[0]))\n",
        "print(\"Test Acc: \" + str(loss[1]))"
      ],
      "execution_count": null,
      "outputs": [
        {
          "output_type": "stream",
          "text": [
            "3589/3589 [==============================] - 3s 710us/step\n",
            "Test Loss 0.9991319542244703\n",
            "Test Acc: 0.630537748336792\n"
          ],
          "name": "stdout"
        }
      ]
    },
    {
      "cell_type": "code",
      "metadata": {
        "id": "8xNRZDABwKo0"
      },
      "source": [
        "def plot_confusion_matrix(y_test, y_pred, classes,\n",
        "                          normalize=False,\n",
        "                          title='Unnormalized confusion matrix',\n",
        "                          cmap=plt.cm.Blues):\n",
        "    cm = confusion_matrix(y_test, y_pred)\n",
        "    \n",
        "    if normalize:\n",
        "        cm = np.round(cm.astype('float') / cm.sum(axis=1)[:, np.newaxis], 2)\n",
        "        \n",
        "    np.set_printoptions(precision=2)\n",
        "        \n",
        "    plt.imshow(cm, interpolation='nearest', cmap=cmap)\n",
        "    plt.title(title)\n",
        "    plt.colorbar()\n",
        "    tick_marks = np.arange(len(classes))\n",
        "    plt.xticks(tick_marks, classes, rotation=45)\n",
        "    plt.yticks(tick_marks, classes)\n",
        "\n",
        "    thresh = cm.min() + (cm.max() - cm.min()) / 2.\n",
        "    for i, j in itertools.product(range(cm.shape[0]), range(cm.shape[1])):\n",
        "        plt.text(j, i, cm[i, j],\n",
        "                 horizontalalignment=\"center\",\n",
        "                 color=\"white\" if cm[i, j] > thresh else \"black\")\n",
        "\n",
        "    plt.tight_layout()\n",
        "    plt.ylabel('True expression')\n",
        "    plt.xlabel('Predicted expression')\n",
        "    plt.show()"
      ],
      "execution_count": null,
      "outputs": []
    },
    {
      "cell_type": "code",
      "metadata": {
        "id": "g21sT-ZJwXAF",
        "colab": {
          "base_uri": "https://localhost:8080/",
          "height": 328
        },
        "outputId": "6999fe6a-2a8b-4cea-bf93-64586790929c"
      },
      "source": [
        "y_pred_ = model.predict(X_test/255., verbose=1)\n",
        "y_pred = np.argmax(y_pred_, axis=1)\n",
        "t_te = np.argmax(y_test, axis=1)\n",
        "fig = plot_confusion_matrix(y_test= t_te, y_pred= y_pred,\n",
        "                      classes=classes,\n",
        "                      normalize=True,\n",
        "                      cmap=plt.cm.Greys,\n",
        "                      title='Average accuracy: ' + str(np.sum(y_pred == t_te)/len(t_te)) + '\\n')\n"
      ],
      "execution_count": null,
      "outputs": [
        {
          "output_type": "stream",
          "text": [
            "3589/3589 [==============================] - 2s 690us/step\n"
          ],
          "name": "stdout"
        },
        {
          "output_type": "display_data",
          "data": {
            "image/png": "[encoded data removed]",
            "text/plain": [
              "<Figure size 432x288 with 2 Axes>"
            ]
          },
          "metadata": {
            "tags": [],
            "needs_background": "light"
          }
        }
      ]
    },
    {
      "cell_type": "markdown",
      "metadata": {
        "id": "NQw8BPfAui0M"
      },
      "source": [
        ""
      ]
    },
    {
      "cell_type": "code",
      "metadata": {
        "id": "lujwEoLbAzsc",
        "colab": {
          "base_uri": "https://localhost:8080/",
          "height": 34
        },
        "outputId": "5357b5a4-0a5d-4fcd-ca62-1ce50ba8e089"
      },
      "source": [
        "from google.colab import drive\n",
        "drive.mount('/content/drive')"
      ],
      "execution_count": null,
      "outputs": [
        {
          "output_type": "stream",
          "text": [
            "Drive already mounted at /content/drive; to attempt to forcibly remount, call drive.mount(\"/content/drive\", force_remount=True).\n"
          ],
          "name": "stdout"
        }
      ]
    }
  ]
}